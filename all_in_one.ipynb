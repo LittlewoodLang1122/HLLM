{
 "cells": [
  {
   "cell_type": "code",
   "execution_count": 9,
   "metadata": {},
   "outputs": [],
   "source": [
    "from transformers import AutoConfig, AutoModelForCausalLM"
   ]
  },
  {
   "cell_type": "code",
   "execution_count": 2,
   "metadata": {},
   "outputs": [],
   "source": [
    "LlamaCfg = AutoConfig.from_pretrained('TinyLlama/TinyLlama-1.1B-intermediate-step-1431k-3T')\n",
    "QwenCfg = AutoConfig.from_pretrained('Qwen/Qwen2.5-1.5B-Instruct')\n",
    "flan_t5 = AutoConfig.from_pretrained('google/flan-t5-XL')\n",
    "GPT2 = AutoConfig.from_pretrained('openai-community/gpt2')\n",
    "GPT_Neo = AutoConfig.from_pretrained('EleutherAI/gpt-neo-1.3B')"
   ]
  },
  {
   "cell_type": "code",
   "execution_count": 10,
   "metadata": {},
   "outputs": [],
   "source": [
    "# LlamaCfg 1.1B: 2048 3B: 3072\n",
    "# Qwen 0.5B: 896 1.5B: 1536\n",
    "# flan-t5 large(780M): 1024, XL(3B): 2048\n",
    "# GPT2: 117M: 768, 345M: 1024, 762M: 1280, 1.5B: 1600, GPT-Neo 1.3B: 2048"
   ]
  }
 ],
 "metadata": {
  "kernelspec": {
   "display_name": "Python 3",
   "language": "python",
   "name": "python3"
  },
  "language_info": {
   "codemirror_mode": {
    "name": "ipython",
    "version": 3
   },
   "file_extension": ".py",
   "mimetype": "text/x-python",
   "name": "python",
   "nbconvert_exporter": "python",
   "pygments_lexer": "ipython3",
   "version": "3.10.12"
  }
 },
 "nbformat": 4,
 "nbformat_minor": 2
}
